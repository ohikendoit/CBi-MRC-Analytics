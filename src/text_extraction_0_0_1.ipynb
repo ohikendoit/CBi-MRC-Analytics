{
 "cells": [
  {
   "cell_type": "markdown",
   "id": "e03b858f",
   "metadata": {},
   "source": [
    "reference: adobe/pdfservices-python-sdk-samples"
   ]
  },
  {
   "cell_type": "code",
   "execution_count": 6,
   "id": "d88ea754",
   "metadata": {},
   "outputs": [
    {
     "name": "stdout",
     "output_type": "stream",
     "text": [
      "Collecting pdfservices-sdk==1.0.0\n",
      "  Downloading pdfservices_sdk-1.0.0-py3-none-any.whl (74 kB)\n",
      "\u001b[K     |████████████████████████████████| 74 kB 1.3 MB/s eta 0:00:01\n",
      "\u001b[?25hRequirement already satisfied: six==1.15.0 in /opt/anaconda3/lib/python3.8/site-packages (from pdfservices-sdk==1.0.0) (1.15.0)\n",
      "Requirement already satisfied: cffi==1.14.5 in /opt/anaconda3/lib/python3.8/site-packages (from pdfservices-sdk==1.0.0) (1.14.5)\n",
      "Requirement already satisfied: requests-toolbelt==0.9.1 in /opt/anaconda3/lib/python3.8/site-packages (from pdfservices-sdk==1.0.0) (0.9.1)\n",
      "Requirement already satisfied: PyYAML==5.4.1 in /opt/anaconda3/lib/python3.8/site-packages (from pdfservices-sdk==1.0.0) (5.4.1)\n",
      "Requirement already satisfied: pyparsing==2.4.7 in /opt/anaconda3/lib/python3.8/site-packages (from pdfservices-sdk==1.0.0) (2.4.7)\n",
      "Requirement already satisfied: build==0.3.0 in /opt/anaconda3/lib/python3.8/site-packages (from pdfservices-sdk==1.0.0) (0.3.0)\n",
      "Requirement already satisfied: pep517==0.9.1 in /opt/anaconda3/lib/python3.8/site-packages (from pdfservices-sdk==1.0.0) (0.9.1)\n",
      "Requirement already satisfied: multipart==0.2.4 in /opt/anaconda3/lib/python3.8/site-packages (from pdfservices-sdk==1.0.0) (0.2.4)\n",
      "Requirement already satisfied: definitions==0.2.0 in /opt/anaconda3/lib/python3.8/site-packages (from pdfservices-sdk==1.0.0) (0.2.0)\n",
      "Requirement already satisfied: toml==0.10.2 in /opt/anaconda3/lib/python3.8/site-packages (from pdfservices-sdk==1.0.0) (0.10.2)\n",
      "Requirement already satisfied: certifi==2020.12.5 in /opt/anaconda3/lib/python3.8/site-packages (from pdfservices-sdk==1.0.0) (2020.12.5)\n",
      "Requirement already satisfied: polling2==0.4.6 in /opt/anaconda3/lib/python3.8/site-packages (from pdfservices-sdk==1.0.0) (0.4.6)\n",
      "Requirement already satisfied: urllib3==1.26.3 in /opt/anaconda3/lib/python3.8/site-packages (from pdfservices-sdk==1.0.0) (1.26.3)\n",
      "Requirement already satisfied: pycparser==2.20 in /opt/anaconda3/lib/python3.8/site-packages (from pdfservices-sdk==1.0.0) (2.20)\n",
      "Requirement already satisfied: Pygments==2.8.0 in /opt/anaconda3/lib/python3.8/site-packages (from pdfservices-sdk==1.0.0) (2.8.0)\n",
      "Requirement already satisfied: PyJWT==2.0.1 in /opt/anaconda3/lib/python3.8/site-packages (from pdfservices-sdk==1.0.0) (2.0.1)\n",
      "Requirement already satisfied: packaging==20.9 in /opt/anaconda3/lib/python3.8/site-packages (from pdfservices-sdk==1.0.0) (20.9)\n",
      "Requirement already satisfied: cryptography==3.4.6 in /opt/anaconda3/lib/python3.8/site-packages (from pdfservices-sdk==1.0.0) (3.4.6)\n",
      "Requirement already satisfied: polling==0.3.1 in /opt/anaconda3/lib/python3.8/site-packages (from pdfservices-sdk==1.0.0) (0.3.1)\n",
      "Requirement already satisfied: requests==2.25.1 in /opt/anaconda3/lib/python3.8/site-packages (from pdfservices-sdk==1.0.0) (2.25.1)\n",
      "Requirement already satisfied: chardet<5,>=3.0.2 in /opt/anaconda3/lib/python3.8/site-packages (from requests==2.25.1->pdfservices-sdk==1.0.0) (4.0.0)\n",
      "Requirement already satisfied: idna<3,>=2.5 in /opt/anaconda3/lib/python3.8/site-packages (from requests==2.25.1->pdfservices-sdk==1.0.0) (2.10)\n",
      "Installing collected packages: pdfservices-sdk\n",
      "  Attempting uninstall: pdfservices-sdk\n",
      "    Found existing installation: pdfservices-sdk 1.0.1\n",
      "    Uninstalling pdfservices-sdk-1.0.1:\n",
      "      Successfully uninstalled pdfservices-sdk-1.0.1\n",
      "Successfully installed pdfservices-sdk-1.0.0\n"
     ]
    }
   ],
   "source": [
    "!pip install pdfservices-sdk==1.0.0"
   ]
  },
  {
   "cell_type": "code",
   "execution_count": 7,
   "id": "730ead3d",
   "metadata": {},
   "outputs": [
    {
     "ename": "ModuleNotFoundError",
     "evalue": "No module named 'adobe'",
     "output_type": "error",
     "traceback": [
      "\u001b[0;31m---------------------------------------------------------------------------\u001b[0m",
      "\u001b[0;31mModuleNotFoundError\u001b[0m                       Traceback (most recent call last)",
      "\u001b[0;32m<ipython-input-7-f1a9598ba8df>\u001b[0m in \u001b[0;36m<module>\u001b[0;34m\u001b[0m\n\u001b[1;32m      2\u001b[0m \u001b[0;32mimport\u001b[0m \u001b[0mos\u001b[0m\u001b[0;34m.\u001b[0m\u001b[0mpath\u001b[0m\u001b[0;34m\u001b[0m\u001b[0;34m\u001b[0m\u001b[0m\n\u001b[1;32m      3\u001b[0m \u001b[0;34m\u001b[0m\u001b[0m\n\u001b[0;32m----> 4\u001b[0;31m \u001b[0;32mfrom\u001b[0m \u001b[0madobe\u001b[0m\u001b[0;34m.\u001b[0m\u001b[0mpdfservices\u001b[0m\u001b[0;34m.\u001b[0m\u001b[0moperation\u001b[0m\u001b[0;34m.\u001b[0m\u001b[0mauth\u001b[0m\u001b[0;34m.\u001b[0m\u001b[0mcredentials\u001b[0m \u001b[0;32mimport\u001b[0m \u001b[0mCredentials\u001b[0m\u001b[0;34m\u001b[0m\u001b[0;34m\u001b[0m\u001b[0m\n\u001b[0m\u001b[1;32m      5\u001b[0m \u001b[0;32mfrom\u001b[0m \u001b[0madobe\u001b[0m\u001b[0;34m.\u001b[0m\u001b[0mpdfservices\u001b[0m\u001b[0;34m.\u001b[0m\u001b[0moperation\u001b[0m\u001b[0;34m.\u001b[0m\u001b[0mexception\u001b[0m\u001b[0;34m.\u001b[0m\u001b[0mexceptions\u001b[0m \u001b[0;32mimport\u001b[0m \u001b[0mServiceApiException\u001b[0m\u001b[0;34m,\u001b[0m \u001b[0mServiceUsageException\u001b[0m\u001b[0;34m,\u001b[0m \u001b[0mSdkException\u001b[0m\u001b[0;34m\u001b[0m\u001b[0;34m\u001b[0m\u001b[0m\n\u001b[1;32m      6\u001b[0m \u001b[0;32mfrom\u001b[0m \u001b[0madobe\u001b[0m\u001b[0;34m.\u001b[0m\u001b[0mpdfservices\u001b[0m\u001b[0;34m.\u001b[0m\u001b[0moperation\u001b[0m\u001b[0;34m.\u001b[0m\u001b[0mpdfops\u001b[0m\u001b[0;34m.\u001b[0m\u001b[0moptions\u001b[0m\u001b[0;34m.\u001b[0m\u001b[0mextractpdf\u001b[0m\u001b[0;34m.\u001b[0m\u001b[0mextract_pdf_options\u001b[0m \u001b[0;32mimport\u001b[0m \u001b[0mExtractPDFOptions\u001b[0m\u001b[0;34m\u001b[0m\u001b[0;34m\u001b[0m\u001b[0m\n",
      "\u001b[0;31mModuleNotFoundError\u001b[0m: No module named 'adobe'"
     ]
    }
   ],
   "source": [
    "import logging\n",
    "import os.path\n",
    "\n",
    "from adobe.pdfservices.operation.auth.credentials import Credentials\n",
    "from adobe.pdfservices.operation.exception.exceptions import ServiceApiException, ServiceUsageException, SdkException\n",
    "from adobe.pdfservices.operation.pdfops.options.extractpdf.extract_pdf_options import ExtractPDFOptions\n",
    "from adobe.pdfservices.operation.pdfops.options.extractpdf.extract_renditions_element_type import \\\n",
    "    ExtractRenditionsElementType\n",
    "from adobe.pdfservices.operation.pdfops.options.extractpdf.extract_element_type import ExtractElementType\n",
    "from adobe.pdfservices.operation.execution_context import ExecutionContext\n",
    "from adobe.pdfservices.operation.io.file_ref import FileRef\n",
    "from adobe.pdfservices.operation.pdfops.extract_pdf_operation import ExtractPDFOperation"
   ]
  },
  {
   "cell_type": "code",
   "execution_count": null,
   "id": "7927d1f9",
   "metadata": {},
   "outputs": [],
   "source": [
    "logging.basicConfig(level=os.environ.get(\"LOGLEVEL\", \"INFO\"))\n",
    "\n",
    "try:\n",
    "    # get base path.\n",
    "    base_path = os.path.dirname(os.path.dirname(os.path.dirname(os.path.abspath(__file__))))\n",
    "\n",
    "    # Initial setup, create credentials instance.\n",
    "    credentials = Credentials.service_account_credentials_builder() \\\n",
    "        .from_file(base_path + \"/pdfservices-api-credentials.json\") \\\n",
    "        .build()\n",
    "\n",
    "    # Create an ExecutionContext using credentials and create a new operation instance.\n",
    "    execution_context = ExecutionContext.create(credentials)\n",
    "    extract_pdf_operation = ExtractPDFOperation.create_new()\n",
    "\n",
    "    # Set operation input from a source file.\n",
    "    source = FileRef.create_from_local_file(base_path + \"/resources/extractPdfInput.pdf\")\n",
    "    extract_pdf_operation.set_input(source)\n",
    "\n",
    "    # Build ExtractPDF options and set them into the operation\n",
    "    extract_pdf_options: ExtractPDFOptions = ExtractPDFOptions.builder() \\\n",
    "        .with_elements_to_extract([ExtractElementType.TEXT, ExtractElementType.TABLES]) \\\n",
    "        .with_elements_to_extract_renditions([ExtractRenditionsElementType.TABLES,\n",
    "                                              ExtractRenditionsElementType.FIGURES]) \\\n",
    "        .build()\n",
    "    extract_pdf_operation.set_options(extract_pdf_options)\n",
    "\n",
    "    # Execute the operation.\n",
    "    result: FileRef = extract_pdf_operation.execute(execution_context)\n",
    "\n",
    "    # Save the result to the specified location.\n",
    "    result.save_as(base_path + \"/output/ExtractTextTableWithFigureTableRendition.zip\")\n",
    "except (ServiceApiException, ServiceUsageException, SdkException):\n",
    "    logging.exception(\"Exception encountered while executing operation\")"
   ]
  }
 ],
 "metadata": {
  "kernelspec": {
   "display_name": "Python 3",
   "language": "python",
   "name": "python3"
  },
  "language_info": {
   "codemirror_mode": {
    "name": "ipython",
    "version": 3
   },
   "file_extension": ".py",
   "mimetype": "text/x-python",
   "name": "python",
   "nbconvert_exporter": "python",
   "pygments_lexer": "ipython3",
   "version": "3.7.6"
  }
 },
 "nbformat": 4,
 "nbformat_minor": 5
}
